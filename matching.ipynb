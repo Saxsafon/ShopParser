{
 "cells": [
  {
   "cell_type": "code",
   "execution_count": null,
   "metadata": {},
   "outputs": [],
   "source": [
    "def SequenceMatcher(a,b):\n",
    "    '''Функция для определения схожести двух строк (в %)'''\n",
    "    seq=difflib.SequenceMatcher(a=a.lower().split(' '),b=b.lower().split(' '))\n",
    "    percentage = seq.ratio()\n",
    "    return percentage"
   ]
  },
  {
   "cell_type": "code",
   "execution_count": null,
   "metadata": {},
   "outputs": [],
   "source": [
    "def accordance(d,ozon=False):\n",
    "    '''Функция для поиска и утверждения искомого товара из списка найденых'''\n",
    "    \n",
    "    score = max(d.keys())\n",
    "\n",
    "    if score >= 0.61:\n",
    "        reg_price = d[score][1]\n",
    "        promo_priced = d[score][2]\n",
    "        if ozon:\n",
    "            premium_price = d[score][3]\n",
    "            \n",
    "    else:\n",
    "        reg_price = 0\n",
    "        promo_priced = 0\n",
    "        if ozon:\n",
    "            premium_price = 0\n",
    "    if ozon:\n",
    "        return reg_price, promo_priced, premium_price\n",
    "    return reg_price, promo_priced"
   ]
  }
 ],
 "metadata": {
  "kernelspec": {
   "display_name": "Python 3",
   "language": "python",
   "name": "python3"
  },
  "language_info": {
   "codemirror_mode": {
    "name": "ipython",
    "version": 3
   },
   "file_extension": ".py",
   "mimetype": "text/x-python",
   "name": "python",
   "nbconvert_exporter": "python",
   "pygments_lexer": "ipython3",
   "version": "3.7.3"
  }
 },
 "nbformat": 4,
 "nbformat_minor": 2
}
